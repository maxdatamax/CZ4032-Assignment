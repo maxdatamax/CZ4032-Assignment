{
 "cells": [
  {
   "cell_type": "markdown",
   "metadata": {},
   "source": [
    "# RossmannStoreSales\n",
    "\n",
    "## Dataset Information\n",
    "\n",
    "### train.csv\n",
    "This is the main training dataset which contains data about the sales figures for a store on a\n",
    "particular date.\n",
    "\n",
    "#### Data Fields:\n",
    "1. Store: a unique numerical store identifier (1 - 1,115)\n",
    "2. DayOfWeek: the day of week (1 - 7)\n",
    "3. Date: the date, ranging from 2013-01-01 to 2015-07-31\n",
    "4. Sales: the turnover of the specified store on the specified date\n",
    "5. Customers: the number of customers of the specified store on the specified date\n",
    "6. Open: indicates whether the store was open (0 = Closed, 1 = Open)\n",
    "7. Promo: indicates whether the store was running a promotion (0 = No, 1 = Yes)\n",
    "8. StateHoliday: indicates if it was a state holiday (a = Public holiday, b = Easter holiday, c = Christmas, 0 = None)\n",
    "9. SchoolHoliday: indicates if it was a school holiday (0 = No, 1 = Yes)\n",
    "\n",
    "**Number of Records**: 1,017,209\n",
    "\n",
    "### store.csv\n",
    "This dataset contains supplementary information about each of the 1,115 stores and helps\n",
    "identify unique features which may (or may not) affect sales.\n",
    "\n",
    "#### Data Fields\n",
    "1. Store: a unique numerical store identifier (1 - 1,115)\n",
    "2. StoreType: differentiates between the 4 different types of stores (a, b, c, d)\n",
    "3. Assortment: describes the assortment of goods carried by the store (a = Basic, b = Extra, c = Extended)\n",
    "4. CompetitionDistance: the distance (in metres) to the nearest competitor’s store\n",
    "5. CompetitionOpenSinceMonth: the month in which the competition opened\n",
    "6. CompetitionOpenSinceYear: the year in which the competition opened\n",
    "7. Promo2: indicates if a store is participating in a continuing and consecutive promotion (0 = No, 1 = Yes)\n",
    "8. Promo2SinceWeek: the week of the year in which the store began participating in Promo2 (from 1 - 52, presumably, but some weeks are unrepresented in the data)\n",
    "9. Promo2SinceYear: the year in which the store began participating in Promo2 (from 2009 - 2015)\n",
    "10. PromoInterval: describes the consecutive intervals in which Promo2 is activated, giving the months the promotion is renewed (either “Jan,Apr,Jul,Oct”, “Feb,May,Aug,Nov” or “Mar,Jun,Sept,Dec”)\n",
    "\n",
    "**Number of Records**: 1,115\n",
    "\n",
    "### test.csv\n",
    "This dataset is to be used for testing and evaluating the model.\n",
    "\n",
    "#### Data Fields\n",
    "Same as train.csv, with the exclusion of Customers & Sales (Sales to be predicted by the model) and an additional field Id which represents a (Store, Date) tuple that is used to label predictions for submission to Kaggle.\n",
    "\n",
    "**Number of Records**: 41,088"
   ]
  }
 ],
 "metadata": {
  "kernelspec": {
   "display_name": "Python 3",
   "language": "python",
   "name": "python3"
  },
  "language_info": {
   "codemirror_mode": {
    "name": "ipython",
    "version": 3
   },
   "file_extension": ".py",
   "mimetype": "text/x-python",
   "name": "python",
   "nbconvert_exporter": "python",
   "pygments_lexer": "ipython3",
   "version": "3.5.2"
  }
 },
 "nbformat": 4,
 "nbformat_minor": 2
}
